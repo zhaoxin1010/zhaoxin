{
 "cells": [
  {
   "cell_type": "markdown",
   "metadata": {},
   "source": [
    "# Workflow for construction of ECM_eco1515"
   ]
  },
  {
   "cell_type": "code",
   "execution_count": 1,
   "metadata": {},
   "outputs": [],
   "source": [
    "import sys\n",
    "sys.path.append(r'./')\n",
    "from COBRApy_ECM_funcation import *"
   ]
  },
  {
   "cell_type": "markdown",
   "metadata": {},
   "source": [
    "Inputing files and parameters."
   ]
  },
  {
   "cell_type": "code",
   "execution_count": 2,
   "metadata": {},
   "outputs": [],
   "source": [
    "modelname = 'iML1515.xml'#The genome-scale metabolic model for constructing the enzyme-constrained model.\n",
    "ptot = 0.56 #the total protein fraction in cell.\n",
    "sigma = 0.5 #the approximated average saturation of enzyme.\n",
    "lowerbound = 0 #Lowerbound  of enzyme concentration constraint. \n",
    "ID_kcat = \"./ID_kcat_file.csv\"#reaction_kcat file. eg. AADDGT,49389.2889\n",
    "gene_subunit = \"./gene_subunit_file.csv\"#gene_subunit file. eg. b0002,thrA,4\n",
    "subunit_molecular_weight = \"./subunit_molecular_weight_file.csv\"#gene_subunit_molecular_weight file. eg. b0001,thrL,2.13846\n",
    "gene_abundance = \"./gene_abundance_file.csv\"#gene_abundance file. eg. b0789,1.1\n",
    "model = cobra.io.read_sbml_model(modelname)"
   ]
  },
  {
   "cell_type": "markdown",
   "metadata": {},
   "source": [
    "Step1:Preprocessing of model"
   ]
  },
  {
   "cell_type": "markdown",
   "metadata": {},
   "source": [
    "The reversible reactions in the GEM model are divided into two irreversible reactions. The input is iML1515 with 2712 reactions. The output is a model with 3375 irreversible reactions."
   ]
  },
  {
   "cell_type": "code",
   "execution_count": 3,
   "metadata": {},
   "outputs": [
    {
     "data": {
      "text/html": [
       "\n",
       "        <table>\n",
       "            <tr>\n",
       "                <td><strong>Name</strong></td>\n",
       "                <td>iML1515</td>\n",
       "            </tr><tr>\n",
       "                <td><strong>Memory address</strong></td>\n",
       "                <td>0x07fc155664da0</td>\n",
       "            </tr><tr>\n",
       "                <td><strong>Number of metabolites</strong></td>\n",
       "                <td>1877</td>\n",
       "            </tr><tr>\n",
       "                <td><strong>Number of reactions</strong></td>\n",
       "                <td>3375</td>\n",
       "            </tr><tr>\n",
       "                <td><strong>Objective expression</strong></td>\n",
       "                <td>-1.0*BIOMASS_Ec_iML1515_core_75p37M_reverse_35685 + 1.0*BIOMASS_Ec_iML1515_core_75p37M</td>\n",
       "            </tr><tr>\n",
       "                <td><strong>Compartments</strong></td>\n",
       "                <td>periplasm, extracellular space, cytosol</td>\n",
       "            </tr>\n",
       "          </table>"
      ],
      "text/plain": [
       "<Model iML1515 at 0x7fc155664da0>"
      ]
     },
     "execution_count": 3,
     "metadata": {},
     "output_type": "execute_result"
    }
   ],
   "source": [
    "irreversible_model(model)"
   ]
  },
  {
   "cell_type": "markdown",
   "metadata": {},
   "source": [
    "Step2: Retrieving enzyme kinetics and proteomics data"
   ]
  },
  {
   "cell_type": "markdown",
   "metadata": {},
   "source": [
    "The inputs are GEM model and 'ID_kcat_file.csv'. The outputs are 'genes' data (contains all genes in the iML1515 for the calculating of f) and 'ID_GPR' data (contains 1767 reaction ids with the kcat value and the GPR relationship for the calculating of molecular weight of the enzyme)."
   ]
  },
  {
   "cell_type": "code",
   "execution_count": 4,
   "metadata": {},
   "outputs": [],
   "source": [
    "genes = get_genes_and_GPR(model,ID_kcat)"
   ]
  },
  {
   "cell_type": "markdown",
   "metadata": {},
   "source": [
    "Calculating the molecular weight of the enzyme (MW). The inputs are 'ID_GPR' data, 'gene_subunit_file.csv' and  'subunit_molecular_weight_file'. The output is 'ID_MW' data which contains the 1767 reaction ids and the molecular weight information for each reaction."
   ]
  },
  {
   "cell_type": "code",
   "execution_count": 5,
   "metadata": {},
   "outputs": [],
   "source": [
    "ID_GPR = \"./ID_GPR_file_new.csv\"#Because we corrected the error of the gene_reaction_rule of a small amount of reactions in iML1515 (See Supplementary Table S1 for details), a modified file is re-entered here.This file does not need to be re-entered when there is no need to correct the GPR relationship.\n",
    "ID_MW = calculate_MW(ID_GPR,gene_subunit,subunit_molecular_weight)"
   ]
  },
  {
   "cell_type": "markdown",
   "metadata": {},
   "source": [
    "Calculating kcat/MW. The inputs are 'ID_kcat' and 'ID_MW' data for the calculating of kcat/MW (When the reaction is catalyzed by several isozymes, the maximum is retained)."
   ]
  },
  {
   "cell_type": "code",
   "execution_count": 6,
   "metadata": {},
   "outputs": [],
   "source": [
    "ID_kcat_MW = calculate_kcat_MW(ID_kcat,ID_MW) "
   ]
  },
  {
   "cell_type": "markdown",
   "metadata": {},
   "source": [
    "Calculating f. The input is 'genes' data, 'gene_abundance_file.csv' and 'subunit_molecular_weight_file.csv'."
   ]
  },
  {
   "cell_type": "code",
   "execution_count": 7,
   "metadata": {},
   "outputs": [],
   "source": [
    "f = calculate_f(genes,gene_abundance,subunit_molecular_weight)"
   ]
  },
  {
   "cell_type": "markdown",
   "metadata": {},
   "source": [
    "Step3: Introducing enzyme concentration constraint by COBRApy."
   ]
  },
  {
   "cell_type": "markdown",
   "metadata": {},
   "source": [
    "The inputs are GEM model, 'ID_kcat_MW' data, the lowerbound and upperbound of enzyme concentration constraint. The output is an enzyme-constrained model."
   ]
  },
  {
   "cell_type": "code",
   "execution_count": 8,
   "metadata": {},
   "outputs": [],
   "source": [
    "upperbound = round(ptot * f * sigma,3)#Calculating the upperbound of the enzyme concentration constraint obtained by the above process.\n",
    "model = set_enzyme_constraint(model, ID_kcat_MW, lowerbound, upperbound)"
   ]
  },
  {
   "cell_type": "markdown",
   "metadata": {},
   "source": [
    "# Result"
   ]
  },
  {
   "cell_type": "markdown",
   "metadata": {},
   "source": [
    "Simulating overflow metabolism of E. coli"
   ]
  },
  {
   "cell_type": "code",
   "execution_count": 9,
   "metadata": {},
   "outputs": [],
   "source": [
    "overflow_result = pd.DataFrame()\n",
    "i = 0.1\n",
    "while i <= 0.7:\n",
    "    with model as overflow_model:\n",
    "        overflow_model.reactions.get_by_id('EX_glc__D_e_reverse').bounds = (0.0, 0.0)\n",
    "        overflow_model.reactions.get_by_id('EX_glc__D_e').bounds = (-1000.0, 0.0)  \n",
    "        overflow_model.reactions.get_by_id('BIOMASS_Ec_iML1515_core_75p37M').bounds = (i, i)\n",
    "        overflow_model.objective = 'EX_glc__D_e'\n",
    "        pfba_solution = cobra.flux_analysis.pfba(overflow_model)\n",
    "        overflow_result.loc[i, 'glucose'] = str(-pfba_solution.fluxes['EX_glc__D_e'])\n",
    "        overflow_result.loc[i, 'ac'] = str(pfba_solution.fluxes['EX_ac_e'])\n",
    "        overflow_result.loc[i, 'o2_reverse'] = str(pfba_solution.fluxes['EX_o2_e_reverse'])\n",
    "        i = i + 0.1\n",
    "overflow_result.to_csv(\"./pfba_overflow_result.csv\", sep=',')\n",
    "        "
   ]
  },
  {
   "cell_type": "markdown",
   "metadata": {},
   "source": [
    "Predicting E. coli’s maximum growth rate using different carbon sources"
   ]
  },
  {
   "cell_type": "code",
   "execution_count": 10,
   "metadata": {},
   "outputs": [],
   "source": [
    "subs = ['EX_acgam_e','EX_ac_e','EX_akg_e','EX_ala__L_e','EX_fru_e','EX_fum_e','EX_g6p_e','EX_gal_e','EX_gam_e','EX_glcn_e','EX_glc__D_e','EX_glyc_e','EX_gsn_e','EX_lac__L_e','EX_malt_e','EX_mal__L_e','EX_man_e','EX_mnl_e','EX_pyr_e','EX_rib__D_e','EX_sbt__D_e','EX_succ_e','EX_tre_e','EX_xyl__D_e']\n",
    "growth = pd.DataFrame()\n",
    "for sub in subs:\n",
    "    with model as growth_model: \n",
    "        growth_model.reactions.get_by_id('EX_dha_e').bounds = (0.0, 0.0) \n",
    "        growth_model.reactions.get_by_id('EX_pyr_e').bounds = (0.0, 0.0) \n",
    "        growth_model.reactions.get_by_id('EX_5dglcn_e').bounds = (0.0, 0.0) \n",
    "        growth_model.reactions.get_by_id('EX_xan_e').bounds = (0.0, 0.0) \n",
    "        growth_model.reactions.get_by_id('EX_fum_e').bounds = (0.0, 0.0) \n",
    "        growth_model.reactions.get_by_id('EX_succ_e').bounds = (0.0, 0.0)\n",
    "        growth_model.reactions.get_by_id('EX_for_e').bounds = (0.0, 0.0)\n",
    "        growth_model.reactions.get_by_id('EX_glcn_e').bounds = (0.0, 0.0)\n",
    "        growth_model.reactions.get_by_id('EX_glc__D_e_reverse').bounds = (0.0, 0.0) \n",
    "        growth_model.reactions.get_by_id(sub).bounds = (-1000.0, 0.0)\n",
    "        pfba_solution = cobra.flux_analysis.pfba(growth_model)\n",
    "        growth.loc[sub,'pfba_flux']= str(pfba_solution.fluxes['BIOMASS_Ec_iML1515_core_75p37M'])\n",
    "        growth.loc[sub,'sub_flux']= str(pfba_solution.fluxes[sub])\n",
    "growth.to_csv(\"./growth_pfba.csv\",sep=',')"
   ]
  },
  {
   "cell_type": "code",
   "execution_count": null,
   "metadata": {},
   "outputs": [],
   "source": []
  }
 ],
 "metadata": {
  "kernelspec": {
   "display_name": "enzyme_python",
   "language": "python",
   "name": "enzyme_python"
  },
  "language_info": {
   "codemirror_mode": {
    "name": "ipython",
    "version": 3
   },
   "file_extension": ".py",
   "mimetype": "text/x-python",
   "name": "python",
   "nbconvert_exporter": "python",
   "pygments_lexer": "ipython3",
   "version": "3.5.5"
  }
 },
 "nbformat": 4,
 "nbformat_minor": 2
}
